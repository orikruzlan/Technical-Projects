{
  "nbformat": 4,
  "nbformat_minor": 0,
  "metadata": {
    "colab": {
      "name": "Boston Housing project Linear regression.ipynb",
      "provenance": [],
      "authorship_tag": "ABX9TyMYTcxt/RAuLdRcI0UgHMqj",
      "include_colab_link": true
    },
    "kernelspec": {
      "name": "python3",
      "display_name": "Python 3"
    },
    "language_info": {
      "name": "python"
    }
  },
  "cells": [
    {
      "cell_type": "markdown",
      "metadata": {
        "id": "view-in-github",
        "colab_type": "text"
      },
      "source": [
        "<a href=\"https://colab.research.google.com/github/orikruzlan/pingpong/blob/main/Boston_Housing_project_Linear_regression.ipynb\" target=\"_parent\"><img src=\"https://colab.research.google.com/assets/colab-badge.svg\" alt=\"Open In Colab\"/></a>"
      ]
    },
    {
      "cell_type": "code",
      "execution_count": 14,
      "metadata": {
        "id": "HTCfkGW5cSIw"
      },
      "outputs": [],
      "source": [
        "import pandas as pd\n",
        "import numpy as np\n",
        "from sklearn import linear_model\n",
        "\n"
      ]
    },
    {
      "cell_type": "code",
      "source": [
        "from sklearn.datasets import load_boston\n",
        "boston = load_boston()"
      ],
      "metadata": {
        "colab": {
          "base_uri": "https://localhost:8080/"
        },
        "id": "k3QWgvGIc9-y",
        "outputId": "4af58ac5-97db-4839-cbea-4966c2d00cf3"
      },
      "execution_count": 4,
      "outputs": [
        {
          "output_type": "stream",
          "name": "stderr",
          "text": [
            "/usr/local/lib/python3.7/dist-packages/sklearn/utils/deprecation.py:87: FutureWarning: Function load_boston is deprecated; `load_boston` is deprecated in 1.0 and will be removed in 1.2.\n",
            "\n",
            "    The Boston housing prices dataset has an ethical problem. You can refer to\n",
            "    the documentation of this function for further details.\n",
            "\n",
            "    The scikit-learn maintainers therefore strongly discourage the use of this\n",
            "    dataset unless the purpose of the code is to study and educate about\n",
            "    ethical issues in data science and machine learning.\n",
            "\n",
            "    In this special case, you can fetch the dataset from the original\n",
            "    source::\n",
            "\n",
            "        import pandas as pd\n",
            "        import numpy as np\n",
            "\n",
            "\n",
            "        data_url = \"http://lib.stat.cmu.edu/datasets/boston\"\n",
            "        raw_df = pd.read_csv(data_url, sep=\"\\s+\", skiprows=22, header=None)\n",
            "        data = np.hstack([raw_df.values[::2, :], raw_df.values[1::2, :2]])\n",
            "        target = raw_df.values[1::2, 2]\n",
            "\n",
            "    Alternative datasets include the California housing dataset (i.e.\n",
            "    :func:`~sklearn.datasets.fetch_california_housing`) and the Ames housing\n",
            "    dataset. You can load the datasets as follows::\n",
            "\n",
            "        from sklearn.datasets import fetch_california_housing\n",
            "        housing = fetch_california_housing()\n",
            "\n",
            "    for the California housing dataset and::\n",
            "\n",
            "        from sklearn.datasets import fetch_openml\n",
            "        housing = fetch_openml(name=\"house_prices\", as_frame=True)\n",
            "\n",
            "    for the Ames housing dataset.\n",
            "    \n",
            "  warnings.warn(msg, category=FutureWarning)\n"
          ]
        }
      ]
    },
    {
      "cell_type": "code",
      "source": [
        "df_x = pd.DataFrame(boston.data, columns= boston.feature_names)\n",
        "df_y = pd.DataFrame(boston.target)"
      ],
      "metadata": {
        "id": "plETLlnLdtuv"
      },
      "execution_count": 10,
      "outputs": []
    },
    {
      "cell_type": "code",
      "source": [
        "df_x.describe"
      ],
      "metadata": {
        "colab": {
          "base_uri": "https://localhost:8080/"
        },
        "id": "k2OwHkfNeKO2",
        "outputId": "5f20f861-b9af-4080-ae17-4d24c9647f08"
      },
      "execution_count": 11,
      "outputs": [
        {
          "output_type": "execute_result",
          "data": {
            "text/plain": [
              "<bound method NDFrame.describe of         CRIM    ZN  INDUS  CHAS    NOX     RM   AGE     DIS  RAD    TAX  \\\n",
              "0    0.00632  18.0   2.31   0.0  0.538  6.575  65.2  4.0900  1.0  296.0   \n",
              "1    0.02731   0.0   7.07   0.0  0.469  6.421  78.9  4.9671  2.0  242.0   \n",
              "2    0.02729   0.0   7.07   0.0  0.469  7.185  61.1  4.9671  2.0  242.0   \n",
              "3    0.03237   0.0   2.18   0.0  0.458  6.998  45.8  6.0622  3.0  222.0   \n",
              "4    0.06905   0.0   2.18   0.0  0.458  7.147  54.2  6.0622  3.0  222.0   \n",
              "..       ...   ...    ...   ...    ...    ...   ...     ...  ...    ...   \n",
              "501  0.06263   0.0  11.93   0.0  0.573  6.593  69.1  2.4786  1.0  273.0   \n",
              "502  0.04527   0.0  11.93   0.0  0.573  6.120  76.7  2.2875  1.0  273.0   \n",
              "503  0.06076   0.0  11.93   0.0  0.573  6.976  91.0  2.1675  1.0  273.0   \n",
              "504  0.10959   0.0  11.93   0.0  0.573  6.794  89.3  2.3889  1.0  273.0   \n",
              "505  0.04741   0.0  11.93   0.0  0.573  6.030  80.8  2.5050  1.0  273.0   \n",
              "\n",
              "     PTRATIO       B  LSTAT  \n",
              "0       15.3  396.90   4.98  \n",
              "1       17.8  396.90   9.14  \n",
              "2       17.8  392.83   4.03  \n",
              "3       18.7  394.63   2.94  \n",
              "4       18.7  396.90   5.33  \n",
              "..       ...     ...    ...  \n",
              "501     21.0  391.99   9.67  \n",
              "502     21.0  396.90   9.08  \n",
              "503     21.0  396.90   5.64  \n",
              "504     21.0  393.45   6.48  \n",
              "505     21.0  396.90   7.88  \n",
              "\n",
              "[506 rows x 13 columns]>"
            ]
          },
          "metadata": {},
          "execution_count": 11
        }
      ]
    },
    {
      "cell_type": "code",
      "source": [
        "reg = linear_model.LinearRegression()"
      ],
      "metadata": {
        "id": "fndDOHyBeYKU"
      },
      "execution_count": 12,
      "outputs": []
    },
    {
      "cell_type": "code",
      "source": [
        "from sklearn.model_selection import train_test_split"
      ],
      "metadata": {
        "id": "M9-QuHFGfNyy"
      },
      "execution_count": 15,
      "outputs": []
    },
    {
      "cell_type": "code",
      "source": [
        "x_train,x_test,y_train,y_test = train_test_split(df_x,df_y, test_size = 0.2, random_state = 4)"
      ],
      "metadata": {
        "id": "Wcyg_4jtfjNx"
      },
      "execution_count": 16,
      "outputs": []
    },
    {
      "cell_type": "code",
      "source": [
        "reg.fit(x_train, y_train)"
      ],
      "metadata": {
        "colab": {
          "base_uri": "https://localhost:8080/"
        },
        "id": "YkOqZdw2fklg",
        "outputId": "5ed12e8d-5939-4801-d587-260e0b4022ab"
      },
      "execution_count": 17,
      "outputs": [
        {
          "output_type": "execute_result",
          "data": {
            "text/plain": [
              "LinearRegression()"
            ]
          },
          "metadata": {},
          "execution_count": 17
        }
      ]
    },
    {
      "cell_type": "code",
      "source": [
        "print('Coef:', reg.coef_)"
      ],
      "metadata": {
        "colab": {
          "base_uri": "https://localhost:8080/"
        },
        "id": "fcac02e3fyWi",
        "outputId": "fb4c15f9-b63d-48ce-ed61-c75ca506b7ab"
      },
      "execution_count": 18,
      "outputs": [
        {
          "output_type": "stream",
          "name": "stdout",
          "text": [
            "Coef: [[-1.15966452e-01  4.71249231e-02  8.25980146e-03  3.23404531e+00\n",
            "  -1.66865890e+01  3.88410651e+00 -1.08974442e-02 -1.54129540e+00\n",
            "   2.93208309e-01 -1.34059383e-02 -9.06296429e-01  8.80823439e-03\n",
            "  -4.57723846e-01]]\n"
          ]
        }
      ]
    },
    {
      "cell_type": "code",
      "source": [
        "a = reg.predict(x_test)"
      ],
      "metadata": {
        "id": "M7FSbYTuf7TC"
      },
      "execution_count": 19,
      "outputs": []
    },
    {
      "cell_type": "code",
      "source": [
        "print(a)"
      ],
      "metadata": {
        "colab": {
          "base_uri": "https://localhost:8080/"
        },
        "id": "AzQke-gygBja",
        "outputId": "6263377f-7824-4cab-a589-f8b7af53f61f"
      },
      "execution_count": 20,
      "outputs": [
        {
          "output_type": "stream",
          "name": "stdout",
          "text": [
            "[[12.07495986]\n",
            " [26.9894969 ]\n",
            " [17.58803353]\n",
            " [18.15584511]\n",
            " [36.92091659]\n",
            " [25.43267386]\n",
            " [31.09256932]\n",
            " [19.72549907]\n",
            " [19.66103377]\n",
            " [22.96358632]\n",
            " [28.38841214]\n",
            " [28.48925986]\n",
            " [18.99690357]\n",
            " [32.41097504]\n",
            " [21.52350275]\n",
            " [15.25945122]\n",
            " [21.23364112]\n",
            " [11.6220597 ]\n",
            " [11.37109662]\n",
            " [13.63515584]\n",
            " [ 5.62431971]\n",
            " [17.35323315]\n",
            " [20.80951594]\n",
            " [22.51311312]\n",
            " [16.39055556]\n",
            " [20.32352451]\n",
            " [17.88994185]\n",
            " [14.23445109]\n",
            " [21.1187098 ]\n",
            " [17.50765806]\n",
            " [14.54295525]\n",
            " [23.63289896]\n",
            " [34.32419647]\n",
            " [22.23027161]\n",
            " [16.82396516]\n",
            " [20.16274383]\n",
            " [30.67665825]\n",
            " [35.61882904]\n",
            " [23.50372003]\n",
            " [24.66451121]\n",
            " [36.91269871]\n",
            " [32.33290254]\n",
            " [19.11785719]\n",
            " [32.19546605]\n",
            " [33.42795148]\n",
            " [25.52705821]\n",
            " [40.63477427]\n",
            " [18.21762788]\n",
            " [19.34587461]\n",
            " [23.80167377]\n",
            " [33.42122982]\n",
            " [26.1451108 ]\n",
            " [18.10363121]\n",
            " [28.19906437]\n",
            " [13.37486655]\n",
            " [23.34019279]\n",
            " [24.44952678]\n",
            " [33.54973856]\n",
            " [16.71263275]\n",
            " [36.56402224]\n",
            " [15.69684554]\n",
            " [18.55447039]\n",
            " [32.14543203]\n",
            " [15.49568061]\n",
            " [39.02363234]\n",
            " [27.38174402]\n",
            " [31.96333419]\n",
            " [10.09436162]\n",
            " [19.13214621]\n",
            " [21.73038157]\n",
            " [23.14682001]\n",
            " [22.82615401]\n",
            " [22.51245566]\n",
            " [28.21477189]\n",
            " [17.13262484]\n",
            " [23.08039019]\n",
            " [16.65978367]\n",
            " [25.17892617]\n",
            " [13.68806399]\n",
            " [19.8195139 ]\n",
            " [22.31237842]\n",
            " [20.24637447]\n",
            " [28.35989119]\n",
            " [19.12635952]\n",
            " [30.49206633]\n",
            " [22.25649076]\n",
            " [29.98229473]\n",
            " [19.27750127]\n",
            " [23.73890345]\n",
            " [38.32216452]\n",
            " [31.24781499]\n",
            " [41.92137782]\n",
            " [18.61466511]\n",
            " [37.47526878]\n",
            " [19.66151941]\n",
            " [23.44504636]\n",
            " [26.55358092]\n",
            " [22.38454399]\n",
            " [ 9.59394823]\n",
            " [20.39499251]\n",
            " [ 9.22793989]\n",
            " [27.36219976]]\n"
          ]
        }
      ]
    },
    {
      "cell_type": "code",
      "source": [
        "print(y_test)"
      ],
      "metadata": {
        "colab": {
          "base_uri": "https://localhost:8080/"
        },
        "id": "YaVosrPdgIZS",
        "outputId": "01e6bb35-1ed5-44e1-b630-26ca67593555"
      },
      "execution_count": 21,
      "outputs": [
        {
          "output_type": "stream",
          "name": "stdout",
          "text": [
            "        0\n",
            "8    16.5\n",
            "289  24.8\n",
            "68   17.4\n",
            "211  19.3\n",
            "226  37.6\n",
            "..    ...\n",
            "368  50.0\n",
            "144  11.8\n",
            "336  19.5\n",
            "437   8.7\n",
            "216  23.3\n",
            "\n",
            "[102 rows x 1 columns]\n"
          ]
        }
      ]
    },
    {
      "cell_type": "code",
      "source": [
        "# mean square error\n",
        "np.mean((a-y_test)**2)"
      ],
      "metadata": {
        "colab": {
          "base_uri": "https://localhost:8080/"
        },
        "id": "27Vwr-b6gXX1",
        "outputId": "5ad5317a-af07-4586-a161-97e69ea5229c"
      },
      "execution_count": 22,
      "outputs": [
        {
          "output_type": "execute_result",
          "data": {
            "text/plain": [
              "0    25.419587\n",
              "dtype: float64"
            ]
          },
          "metadata": {},
          "execution_count": 22
        }
      ]
    },
    {
      "cell_type": "code",
      "source": [
        ""
      ],
      "metadata": {
        "id": "sRTjpAekgnJZ"
      },
      "execution_count": null,
      "outputs": []
    }
  ]
}